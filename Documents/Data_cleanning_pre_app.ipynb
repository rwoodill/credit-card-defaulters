{
 "cells": [
  {
   "cell_type": "markdown",
   "metadata": {},
   "source": []
  },
  {
   "cell_type": "markdown",
   "metadata": {},
   "source": [
    "Data Cleaning"
   ]
  },
  {
   "cell_type": "code",
   "execution_count": 1,
   "metadata": {},
   "outputs": [],
   "source": [
    "file_path_ad = \"../Raw_data/application_data.csv\"\n",
    "file_path_pad = \"../Raw_data/previous_application.csv\""
   ]
  },
  {
   "cell_type": "code",
   "execution_count": 2,
   "metadata": {},
   "outputs": [
    {
     "data": {
      "text/plain": [
       "1670214"
      ]
     },
     "execution_count": 2,
     "metadata": {},
     "output_type": "execute_result"
    }
   ],
   "source": [
    "import pandas as pd \n",
    "from pprint import pprint\n",
    "df = pd.read_csv(file_path_pad)\n",
    "df.head(20)\n",
    "df['SK_ID_PREV'].count()"
   ]
  },
  {
   "cell_type": "code",
   "execution_count": 3,
   "metadata": {},
   "outputs": [
    {
     "data": {
      "text/plain": [
       "array(['Approved', 'Refused', 'Canceled', 'Unused offer'], dtype=object)"
      ]
     },
     "execution_count": 3,
     "metadata": {},
     "output_type": "execute_result"
    }
   ],
   "source": [
    "df['NAME_CONTRACT_STATUS'].unique()"
   ]
  },
  {
   "cell_type": "code",
   "execution_count": 4,
   "metadata": {},
   "outputs": [],
   "source": [
    "condition = (df['NAME_CONTRACT_STATUS'] == 'Canceled') \n",
    "df_dropped = df.drop(df[condition].index)\n"
   ]
  },
  {
   "cell_type": "code",
   "execution_count": 5,
   "metadata": {},
   "outputs": [],
   "source": [
    "df_dropped['NAME_CONTRACT_STATUS'] = df_dropped['NAME_CONTRACT_STATUS'].replace('Unused offer','Approved')\n",
    "df_dropped['NAME_CONTRACT_STATUS'] = df_dropped['NAME_CONTRACT_STATUS'].replace('Approved','1')\n",
    "df_dropped['NAME_CONTRACT_STATUS'] = df_dropped['NAME_CONTRACT_STATUS'].replace('Refused','0')"
   ]
  },
  {
   "cell_type": "code",
   "execution_count": 6,
   "metadata": {},
   "outputs": [
    {
     "data": {
      "text/plain": [
       "array(['1', '0'], dtype=object)"
      ]
     },
     "execution_count": 6,
     "metadata": {},
     "output_type": "execute_result"
    }
   ],
   "source": [
    "df_dropped['NAME_CONTRACT_STATUS'].unique()"
   ]
  },
  {
   "cell_type": "code",
   "execution_count": 7,
   "metadata": {},
   "outputs": [],
   "source": [
    "df_dropped['SK_ID_PREV'].count()\n",
    "df = df_dropped"
   ]
  },
  {
   "cell_type": "code",
   "execution_count": 8,
   "metadata": {},
   "outputs": [
    {
     "name": "stdout",
     "output_type": "stream",
     "text": [
      "AMT_ANNUITY: 66430 null values\n",
      "AMT_CREDIT: 1 null values\n",
      "AMT_DOWN_PAYMENT: 580168 null values\n",
      "AMT_GOODS_PRICE: 79945 null values\n",
      "RATE_DOWN_PAYMENT: 580168 null values\n",
      "RATE_INTEREST_PRIMARY: 1347944 null values\n",
      "RATE_INTEREST_PRIVILEGED: 1347944 null values\n",
      "NAME_TYPE_SUITE: 514066 null values\n",
      "CNT_PAYMENT: 66425 null values\n",
      "PRODUCT_COMBINATION: 31 null values\n",
      "DAYS_FIRST_DRAWING: 356746 null values\n",
      "DAYS_FIRST_DUE: 356746 null values\n",
      "DAYS_LAST_DUE_1ST_VERSION: 356746 null values\n",
      "DAYS_LAST_DUE: 356746 null values\n",
      "DAYS_TERMINATION: 356746 null values\n",
      "NFLAG_INSURED_ON_APPROVAL: 356746 null values\n"
     ]
    }
   ],
   "source": [
    "# Count null values for each column\n",
    "null_count_list = []\n",
    "for column in df.columns:\n",
    "    null_count = df[column].isnull().sum()\n",
    "    if null_count > 0:\n",
    "        null_count_list.append(f\"{column}: {null_count} null values\")\n",
    "        print(f\"{column}: {null_count} null values\")\n",
    "null_count_list_df = pd.DataFrame(null_count_list)\n",
    "file_path_null = \"../Raw_data/application_data_null_list.csv\"\n",
    "null_count_list_df.to_csv(file_path_null,index=False)\n"
   ]
  },
  {
   "cell_type": "code",
   "execution_count": 9,
   "metadata": {},
   "outputs": [
    {
     "name": "stdout",
     "output_type": "stream",
     "text": [
      "AMT_CREDIT: 1 null values\n",
      "PRODUCT_COMBINATION: 31 null values\n"
     ]
    }
   ],
   "source": [
    "# Narrow down the NA search\n",
    "for column in df.columns:\n",
    "    null_count = df[column].isnull().sum()\n",
    "    if 1000> null_count > 0:\n",
    "        print(f\"{column}: {null_count} null values\")"
   ]
  },
  {
   "cell_type": "code",
   "execution_count": 10,
   "metadata": {},
   "outputs": [],
   "source": [
    "columns_to_check = ['AMT_CREDIT', 'PRODUCT_COMBINATION']\n",
    "df_cleaned = df.dropna(subset=columns_to_check)"
   ]
  },
  {
   "cell_type": "code",
   "execution_count": 11,
   "metadata": {},
   "outputs": [],
   "source": [
    "# drop customer ID\n",
    "df_cleaned = df_cleaned.drop('SK_ID_CURR',axis=1)\n"
   ]
  },
  {
   "cell_type": "code",
   "execution_count": 12,
   "metadata": {},
   "outputs": [],
   "source": [
    "# Count null values for each column, check if they exist in cleand data\n",
    "for column in df_cleaned.columns:\n",
    "    null_count = df_cleaned[column].isnull().sum()\n",
    "    if 1000 > null_count > 0:\n",
    "        print(f\"{column}: {null_count} null values\")"
   ]
  },
  {
   "cell_type": "code",
   "execution_count": 13,
   "metadata": {},
   "outputs": [
    {
     "data": {
      "text/plain": [
       "1353863"
      ]
     },
     "execution_count": 13,
     "metadata": {},
     "output_type": "execute_result"
    }
   ],
   "source": [
    "# check how many data are left\n",
    "df_cleaned['NAME_CONTRACT_STATUS'].count()"
   ]
  },
  {
   "cell_type": "code",
   "execution_count": 14,
   "metadata": {},
   "outputs": [],
   "source": [
    "# write cleaned data to new file\n",
    "csv_file_path = \"../Raw_data/pre_application_data_cleaned.csv\"\n",
    "df_cleaned.to_csv(csv_file_path, index=False)\n"
   ]
  }
 ],
 "metadata": {
  "kernelspec": {
   "display_name": "base",
   "language": "python",
   "name": "python3"
  },
  "language_info": {
   "codemirror_mode": {
    "name": "ipython",
    "version": 3
   },
   "file_extension": ".py",
   "mimetype": "text/x-python",
   "name": "python",
   "nbconvert_exporter": "python",
   "pygments_lexer": "ipython3",
   "version": "3.11.5"
  }
 },
 "nbformat": 4,
 "nbformat_minor": 2
}
